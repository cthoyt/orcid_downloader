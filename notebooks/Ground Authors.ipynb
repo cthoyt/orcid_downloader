{
 "cells": [
  {
   "cell_type": "code",
   "execution_count": 39,
   "id": "d40459f8-156b-44a6-9822-91b65fae416c",
   "metadata": {},
   "outputs": [],
   "source": [
    "from indra.literature import pubmed_client\n",
    "import pandas as pd\n",
    "from more_itertools import batched\n",
    "from tqdm.auto import tqdm\n",
    "from orcid_downloader import ground_researcher, get_gilda_grounder\n",
    "from collections import Counter, defaultdict\n",
    "import networkx as nx\n",
    "import sys\n",
    "import humanize\n",
    "from gilda.resources import sqlite_adapter"
   ]
  },
  {
   "cell_type": "code",
   "execution_count": 38,
   "id": "35acc98b-582a-45fc-846d-0d7a17470857",
   "metadata": {},
   "outputs": [
    {
     "name": "stdout",
     "output_type": "stream",
     "text": [
      "3.7 GiB\n",
      "CPU times: user 319 µs, sys: 73 µs, total: 392 µs\n",
      "Wall time: 393 µs\n"
     ]
    }
   ],
   "source": [
    "%%time\n",
    "grounder = get_gilda_grounder()\n",
    "print(humanize.naturalsize(sys.getsizeof(grounder.entries), binary=True))"
   ]
  },
  {
   "cell_type": "code",
   "execution_count": 44,
   "id": "a782f5c6-31c8-4241-a6d3-a3f746c7ad99",
   "metadata": {},
   "outputs": [],
   "source": [
    "import sqlite3\n",
    "import json\n",
    "def build(grounding_entries, path=None):\n",
    "    print(f'Starting SQLite database at {path}')\n",
    "    conn = sqlite3.connect(path)\n",
    "    cur = conn.cursor()\n",
    "\n",
    "    # Create the table\n",
    "    print('Creating the table')\n",
    "    q = \"CREATE TABLE terms (norm_text text not null primary key, terms text)\"\n",
    "    cur.execute(q)\n",
    "\n",
    "    # Insert terms\n",
    "    print('Inserting terms')\n",
    "    q = \"INSERT INTO terms (norm_text, terms) VALUES (?, ?)\"\n",
    "    for norm_text, terms in tqdm(grounding_entries.items(), unit_scale=True):\n",
    "        cur.execute(q, (norm_text, json.dumps([t.to_json() for t in terms])))\n",
    "\n",
    "    # Build index\n",
    "    print('Making index')\n",
    "    q = \"CREATE INDEX norm_index ON terms (norm_text);\"\n",
    "    cur.execute(q)\n",
    "    print(\"committing\")\n",
    "    conn.commit()\n",
    "    print(\"closing\")\n",
    "    conn.close()\n",
    "    print(\"done\")"
   ]
  },
  {
   "cell_type": "code",
   "execution_count": 48,
   "id": "be7f3cb0-c7ac-4a55-917b-c8f094eedfb2",
   "metadata": {},
   "outputs": [
    {
     "data": {
      "application/vnd.jupyter.widget-view+json": {
       "model_id": "25dda936f1024e71aa58f82f4e5280ba",
       "version_major": 2,
       "version_minor": 0
      },
      "text/plain": [
       "  0%|          | 0.00/108M [00:00<?, ?it/s]"
      ]
     },
     "metadata": {},
     "output_type": "display_data"
    },
    {
     "ename": "KeyboardInterrupt",
     "evalue": "",
     "output_type": "error",
     "traceback": [
      "\u001b[0;31m---------------------------------------------------------------------------\u001b[0m",
      "\u001b[0;31mKeyboardInterrupt\u001b[0m                         Traceback (most recent call last)",
      "Cell \u001b[0;32mIn[48], line 3\u001b[0m\n\u001b[1;32m      1\u001b[0m \u001b[38;5;28;01mimport\u001b[39;00m \u001b[38;5;21;01mpickle\u001b[39;00m\n\u001b[0;32m----> 3\u001b[0m db_rows \u001b[38;5;241m=\u001b[39m \u001b[43m[\u001b[49m\n\u001b[1;32m      4\u001b[0m \u001b[43m    \u001b[49m\u001b[43m(\u001b[49m\u001b[43mnorm_text\u001b[49m\u001b[43m,\u001b[49m\u001b[43m \u001b[49m\u001b[43mpickle\u001b[49m\u001b[38;5;241;43m.\u001b[39;49m\u001b[43mdumps\u001b[49m\u001b[43m(\u001b[49m\u001b[43mterms\u001b[49m\u001b[43m)\u001b[49m\u001b[43m)\u001b[49m\n\u001b[1;32m      5\u001b[0m \u001b[43m    \u001b[49m\u001b[38;5;28;43;01mfor\u001b[39;49;00m\u001b[43m \u001b[49m\u001b[43mnorm_text\u001b[49m\u001b[43m,\u001b[49m\u001b[43m \u001b[49m\u001b[43mterms\u001b[49m\u001b[43m \u001b[49m\u001b[38;5;129;43;01min\u001b[39;49;00m\u001b[43m \u001b[49m\u001b[43mtqdm\u001b[49m\u001b[43m(\u001b[49m\u001b[43mgrounder\u001b[49m\u001b[38;5;241;43m.\u001b[39;49m\u001b[43mentries\u001b[49m\u001b[38;5;241;43m.\u001b[39;49m\u001b[43mitems\u001b[49m\u001b[43m(\u001b[49m\u001b[43m)\u001b[49m\u001b[43m,\u001b[49m\u001b[43m \u001b[49m\u001b[43munit_scale\u001b[49m\u001b[38;5;241;43m=\u001b[39;49m\u001b[38;5;28;43;01mTrue\u001b[39;49;00m\u001b[43m)\u001b[49m\n\u001b[1;32m      6\u001b[0m \u001b[43m]\u001b[49m\n",
      "Cell \u001b[0;32mIn[48], line 4\u001b[0m, in \u001b[0;36m<listcomp>\u001b[0;34m(.0)\u001b[0m\n\u001b[1;32m      1\u001b[0m \u001b[38;5;28;01mimport\u001b[39;00m \u001b[38;5;21;01mpickle\u001b[39;00m\n\u001b[1;32m      3\u001b[0m db_rows \u001b[38;5;241m=\u001b[39m [\n\u001b[0;32m----> 4\u001b[0m     (norm_text, pickle\u001b[38;5;241m.\u001b[39mdumps(terms))\n\u001b[1;32m      5\u001b[0m     \u001b[38;5;28;01mfor\u001b[39;00m norm_text, terms \u001b[38;5;129;01min\u001b[39;00m tqdm(grounder\u001b[38;5;241m.\u001b[39mentries\u001b[38;5;241m.\u001b[39mitems(), unit_scale\u001b[38;5;241m=\u001b[39m\u001b[38;5;28;01mTrue\u001b[39;00m)\n\u001b[1;32m      6\u001b[0m ]\n",
      "\u001b[0;31mKeyboardInterrupt\u001b[0m: "
     ]
    }
   ],
   "source": [
    "import pickle\n",
    "\n",
    "db_rows = [\n",
    "    (norm_text, pickle.dumps(terms))\n",
    "    for norm_text, terms in tqdm(grounder.entries.items(), unit_scale=True)\n",
    "]"
   ]
  },
  {
   "cell_type": "code",
   "execution_count": 46,
   "id": "83d5eb02-e138-4494-8122-9e90b03a6f9b",
   "metadata": {},
   "outputs": [
    {
     "name": "stdout",
     "output_type": "stream",
     "text": [
      "Starting SQLite database at /Users/cthoyt/.data/orcid/2023/gilda.db\n",
      "Creating the table\n",
      "Inserting terms\n"
     ]
    },
    {
     "data": {
      "application/vnd.jupyter.widget-view+json": {
       "model_id": "6c45233683eb4bf08d4539375ba2a903",
       "version_major": 2,
       "version_minor": 0
      },
      "text/plain": [
       "  0%|          | 0.00/108M [00:00<?, ?it/s]"
      ]
     },
     "metadata": {},
     "output_type": "display_data"
    },
    {
     "ename": "KeyboardInterrupt",
     "evalue": "",
     "output_type": "error",
     "traceback": [
      "\u001b[0;31m---------------------------------------------------------------------------\u001b[0m",
      "\u001b[0;31mKeyboardInterrupt\u001b[0m                         Traceback (most recent call last)",
      "File \u001b[0;32m<timed eval>:1\u001b[0m\n",
      "Cell \u001b[0;32mIn[44], line 17\u001b[0m, in \u001b[0;36mbuild\u001b[0;34m(grounding_entries, path)\u001b[0m\n\u001b[1;32m     15\u001b[0m q \u001b[38;5;241m=\u001b[39m \u001b[38;5;124m\"\u001b[39m\u001b[38;5;124mINSERT INTO terms (norm_text, terms) VALUES (?, ?)\u001b[39m\u001b[38;5;124m\"\u001b[39m\n\u001b[1;32m     16\u001b[0m \u001b[38;5;28;01mfor\u001b[39;00m norm_text, terms \u001b[38;5;129;01min\u001b[39;00m tqdm(grounding_entries\u001b[38;5;241m.\u001b[39mitems(), unit_scale\u001b[38;5;241m=\u001b[39m\u001b[38;5;28;01mTrue\u001b[39;00m):\n\u001b[0;32m---> 17\u001b[0m     cur\u001b[38;5;241m.\u001b[39mexecute(q, (norm_text, json\u001b[38;5;241m.\u001b[39mdumps(\u001b[43m[\u001b[49m\u001b[43mt\u001b[49m\u001b[38;5;241;43m.\u001b[39;49m\u001b[43mto_json\u001b[49m\u001b[43m(\u001b[49m\u001b[43m)\u001b[49m\u001b[43m \u001b[49m\u001b[38;5;28;43;01mfor\u001b[39;49;00m\u001b[43m \u001b[49m\u001b[43mt\u001b[49m\u001b[43m \u001b[49m\u001b[38;5;129;43;01min\u001b[39;49;00m\u001b[43m \u001b[49m\u001b[43mterms\u001b[49m\u001b[43m]\u001b[49m)))\n\u001b[1;32m     19\u001b[0m \u001b[38;5;66;03m# Build index\u001b[39;00m\n\u001b[1;32m     20\u001b[0m \u001b[38;5;28mprint\u001b[39m(\u001b[38;5;124m'\u001b[39m\u001b[38;5;124mMaking index\u001b[39m\u001b[38;5;124m'\u001b[39m)\n",
      "Cell \u001b[0;32mIn[44], line 17\u001b[0m, in \u001b[0;36m<listcomp>\u001b[0;34m(.0)\u001b[0m\n\u001b[1;32m     15\u001b[0m q \u001b[38;5;241m=\u001b[39m \u001b[38;5;124m\"\u001b[39m\u001b[38;5;124mINSERT INTO terms (norm_text, terms) VALUES (?, ?)\u001b[39m\u001b[38;5;124m\"\u001b[39m\n\u001b[1;32m     16\u001b[0m \u001b[38;5;28;01mfor\u001b[39;00m norm_text, terms \u001b[38;5;129;01min\u001b[39;00m tqdm(grounding_entries\u001b[38;5;241m.\u001b[39mitems(), unit_scale\u001b[38;5;241m=\u001b[39m\u001b[38;5;28;01mTrue\u001b[39;00m):\n\u001b[0;32m---> 17\u001b[0m     cur\u001b[38;5;241m.\u001b[39mexecute(q, (norm_text, json\u001b[38;5;241m.\u001b[39mdumps([t\u001b[38;5;241m.\u001b[39mto_json() \u001b[38;5;28;01mfor\u001b[39;00m t \u001b[38;5;129;01min\u001b[39;00m terms])))\n\u001b[1;32m     19\u001b[0m \u001b[38;5;66;03m# Build index\u001b[39;00m\n\u001b[1;32m     20\u001b[0m \u001b[38;5;28mprint\u001b[39m(\u001b[38;5;124m'\u001b[39m\u001b[38;5;124mMaking index\u001b[39m\u001b[38;5;124m'\u001b[39m)\n",
      "\u001b[0;31mKeyboardInterrupt\u001b[0m: "
     ]
    }
   ],
   "source": [
    "%%time\n",
    "build(grounder.entries, path=\"/Users/cthoyt/.data/orcid/2023/gilda.db\")"
   ]
  },
  {
   "cell_type": "code",
   "execution_count": 2,
   "id": "ac72cac4-a033-4166-8b4f-16874be94628",
   "metadata": {},
   "outputs": [
    {
     "name": "stdout",
     "output_type": "stream",
     "text": [
      "CPU times: user 15min 39s, sys: 1h 30min 29s, total: 1h 46min 8s\n",
      "Wall time: 9h 10min 37s\n"
     ]
    },
    {
     "data": {
      "text/plain": [
       "[ScoredMatch(Term(charlie hoyt,Charlie Hoyt,orcid,0000-0003-4423-4370,Charles Tapley Hoyt,synonym,orcid,None,None,None),0.5400948258091115,Match(query=charlie hoyt,ref=Charlie Hoyt,exact=False,space_mismatch=False,dash_mismatches=set(),cap_combos=[('all_lower', 'initial_cap'), ('all_lower', 'initial_cap')]))]"
      ]
     },
     "execution_count": 2,
     "metadata": {},
     "output_type": "execute_result"
    }
   ],
   "source": [
    "%%time\n",
    "ground_researcher(\"charlie hoyt\")"
   ]
  },
  {
   "cell_type": "code",
   "execution_count": 29,
   "id": "e3455892-faad-4d0d-ab0a-59e559c64b99",
   "metadata": {},
   "outputs": [],
   "source": [
    "def get_metadata_batched(pmids):\n",
    "    results = {}\n",
    "    for batch in tqdm(batched(sorted(pmids), 200), total=1 + len(pmids) // 200, unit=\"batch of 200\", desc=\"Looking up\"):\n",
    "        results.update(pubmed_client.get_metadata_for_ids(batch, detailed_authors=True))\n",
    "    return results\n",
    "\n",
    "\n",
    "def ground_extended(first_name, last_name):\n",
    "    first_name=first_name.strip()\n",
    "    last_name=last_name.strip()\n",
    "    names = [f\"{first_name} {last_name}\"]\n",
    "    if \" \" in first_name:\n",
    "        names.append(first_name.split()[0] + \" \" + last_name)\n",
    "    for name in names:\n",
    "        matches = ground_researcher(name)\n",
    "        if matches:\n",
    "            return matches\n",
    "    return []\n",
    "\n",
    "\n",
    "def process_pmid_results(rr):\n",
    "    annotations = []\n",
    "    ambiguous = Counter()\n",
    "    misses = Counter()\n",
    "    for pubmed, data in tqdm(rr.items(), unit_scale=True, desc=\"Grounding\"):\n",
    "        #print()\n",
    "        #print(f\"PubMed:{pubmed}\")\n",
    "        authors = data['authors']\n",
    "        for author in authors:\n",
    "            first_name = author['first_name']\n",
    "            if not first_name:\n",
    "                continue\n",
    "            last_name = author['last_name']\n",
    "            matches = ground_extended(first_name, last_name)\n",
    "            if len(matches) == 1:\n",
    "                annotations.append((pubmed, matches[0].term.id))\n",
    "            elif matches:\n",
    "                ambiguous[first_name + \" \" + last_name] += 1\n",
    "                # print(pubmed, name, len(matches), author['affiliations'])\n",
    "                # 2. if there are multiple, see if we can match any affiliations\n",
    "                pass\n",
    "            else:\n",
    "                if \"Steven\" in first_name:\n",
    "                    print(first_name)\n",
    "                    print(last_name)\n",
    "                misses[first_name + \" \" + last_name] += 1\n",
    "\n",
    "    orcid_to_papers = defaultdict(set)\n",
    "    for pubmed, orcid in annotations:\n",
    "        orcid_to_papers[orcid].add(pubmed)\n",
    "    orcid_to_papers = {k: sorted(v) for k, v in orcid_to_papers.items()}\n",
    "    \n",
    "    return annotations, orcid_to_papers, ambiguous, misses"
   ]
  },
  {
   "cell_type": "code",
   "execution_count": 30,
   "id": "e3b8faed-e92d-4587-9bf1-aced9b512892",
   "metadata": {},
   "outputs": [
    {
     "data": {
      "application/vnd.jupyter.widget-view+json": {
       "model_id": "8e07cebc14974d79a24474f80510f6d5",
       "version_major": 2,
       "version_minor": 0
      },
      "text/plain": [
       "Looking up:   0%|          | 0/1 [00:00<?, ?batch of 200/s]"
      ]
     },
     "metadata": {},
     "output_type": "display_data"
    },
    {
     "data": {
      "application/vnd.jupyter.widget-view+json": {
       "model_id": "92d14e655270438d822a70272673c023",
       "version_major": 2,
       "version_minor": 0
      },
      "text/plain": [
       "Grounding:   0%|          | 0.00/76.0 [00:00<?, ?it/s]"
      ]
     },
     "metadata": {},
     "output_type": "display_data"
    },
    {
     "name": "stdout",
     "output_type": "stream",
     "text": [
      "There are 882 paper-author annotations with 491 unique authors and 76 papers.\n",
      "There are 72 (94.7%) papers annotated with Bradfute.\n"
     ]
    }
   ],
   "source": [
    "BRADFUTE_ORCID = '0000-0002-1985-751X'\n",
    "bradfute_pmids = pubmed_client.get_ids('\"Steven B Bradfute\"', use_text_word=False)\n",
    "bradfute_records = get_metadata_batched(bradfute_pmids)\n",
    "\n",
    "(\n",
    "    bradfute_annotations, \n",
    "    bradfute_orcid_to_paper, \n",
    "    bradfute_ambiguous,\n",
    "    bradfute_misses,\n",
    ") = process_pmid_results(bradfute_records)\n",
    "\n",
    "print(\n",
    "    f\"There are {len(bradfute_annotations):,} paper-author annotations \"\n",
    "    f\"with {len(bradfute_orcid_to_paper)} unique authors and {len(bradfute_pmids):,} \"\n",
    "    f\"papers.\"\n",
    ")\n",
    "\n",
    "n_bradfute_annotated = len(bradfute_orcid_to_paper[BRADFUTE_ORCID])\n",
    "print(\n",
    "    f\"There are {n_bradfute_annotated:,} ({n_bradfute_annotated/len(bradfute_pmids):.1%}) \"\n",
    "    f\"papers annotated with Bradfute.\"\n",
    ")"
   ]
  },
  {
   "cell_type": "code",
   "execution_count": 31,
   "id": "0ec8e840-334c-486b-914f-0ef9c7cef3ec",
   "metadata": {},
   "outputs": [
    {
     "data": {
      "text/markdown": [
       "|    | 0                           |   1 |\n",
       "|---:|:----------------------------|----:|\n",
       "|  0 | Kelly S Stuthman            |   4 |\n",
       "|  1 | María A Ayllón              |   3 |\n",
       "|  2 | Ali Mirazimi                |   3 |\n",
       "|  3 | Rayapati Naidu              |   3 |\n",
       "|  4 | Jennifer Pocius             |   2 |\n",
       "|  5 | Lloyd H Michael             |   2 |\n",
       "|  6 | William C Raschke           |   2 |\n",
       "|  7 | Siham Nakamura              |   2 |\n",
       "|  8 | Amy C Shurtleff             |   2 |\n",
       "|  9 | Sarah Yarborough            |   2 |\n",
       "| 10 | Christine Merle             |   2 |\n",
       "| 11 | Manfred Theisen             |   2 |\n",
       "| 12 | Elena Dal Bó                |   2 |\n",
       "| 13 | Kurt C Schwalm              |   2 |\n",
       "| 14 | David S Peabody             |   2 |\n",
       "| 15 | Alexandra Serris            |   2 |\n",
       "| 16 | Teresa D Gallardo           |   1 |\n",
       "| 17 | Vinciane Gaussin            |   1 |\n",
       "| 18 | Xuan Chi                    |   1 |\n",
       "| 19 | Andrew J McCooey            |   1 |\n",
       "| 20 | Alan Poindexter             |   1 |\n",
       "| 21 | Rahshaana Green             |   1 |\n",
       "| 22 | Kathyjo A Jackson           |   1 |\n",
       "| 23 | Gretchen Darlington         |   1 |\n",
       "| 24 | Denise R Braun              |   1 |\n",
       "| 25 | Joan B Geisbert             |   1 |\n",
       "| 26 | Jason Paragas               |   1 |\n",
       "| 27 | Derron A Alves              |   1 |\n",
       "| 28 | Sean VanTongeren            |   1 |\n",
       "| 29 | Warren V Kalina             |   1 |\n",
       "| 30 | Megan P Tierney             |   1 |\n",
       "| 31 | Olga Sirin                  |   1 |\n",
       "| 32 | Mehveen G Merchant          |   1 |\n",
       "| 33 | Ricky L Ulrich              |   1 |\n",
       "| 34 | Loreen Lofts                |   1 |\n",
       "| 35 | Meagan T Cooper             |   1 |\n",
       "| 36 | Sean A VanTongeren          |   1 |\n",
       "| 37 | Christine A Mech            |   1 |\n",
       "| 38 | Mayumi Matsuoka             |   1 |\n",
       "| 39 | Jerome Jacques              |   1 |\n",
       "| 40 | Sufi Morshed                |   1 |\n",
       "| 41 | Lian Dong                   |   1 |\n",
       "| 42 | Jacqueline D Gearhart       |   1 |\n",
       "| 43 | Cary Retterer               |   1 |\n",
       "| 44 | Marc A Hogenbirk            |   1 |\n",
       "| 45 | Esteban Roberts             |   1 |\n",
       "| 46 | Sharon Master               |   1 |\n",
       "| 47 | Prafullakumar Tailor        |   1 |\n",
       "| 48 | Cathleen M Lind             |   1 |\n",
       "| 49 | Lori T Eccleston            |   1 |\n",
       "| 50 | Kevin B Spurgers            |   1 |\n",
       "| 51 | Radha K Maheshwari          |   1 |\n",
       "| 52 | Michal H Mudd               |   1 |\n",
       "| 53 | Yangsheng Yu                |   1 |\n",
       "| 54 | Lindsey G Luo               |   1 |\n",
       "| 55 | Michael A Drebot            |   1 |\n",
       "| 56 | Serpil Karadağ              |   1 |\n",
       "| 57 | William Marciel de Souza    |   1 |\n",
       "| 58 | Giovanni P Martelli         |   1 |\n",
       "| 59 | Nicole Mielke-Ehret         |   1 |\n",
       "| 60 | Hans-Peter Mühlbach         |   1 |\n",
       "| 61 | Bertus K Rima               |   1 |\n",
       "| 62 | Yukio Shirako               |   1 |\n",
       "| 63 | Jana Širmarová              |   1 |\n",
       "| 64 | David G Grenache            |   1 |\n",
       "| 65 | Surekha Surendranathan      |   1 |\n",
       "| 66 | Nathan Donart               |   1 |\n",
       "| 67 | Ivy Foo-Hurwitz             |   1 |\n",
       "| 68 | M Lisa Phipps               |   1 |\n",
       "| 69 | Chris J Sheehan             |   1 |\n",
       "| 70 | Michal Mudd                 |   1 |\n",
       "| 71 | Janae Martinez              |   1 |\n",
       "| 72 | Phillip Seidenberg          |   1 |\n",
       "| 73 | Claudette Feuvrier          |   1 |\n",
       "| 74 | Hidenori Horikawa           |   1 |\n",
       "| 75 | François Lieffrig           |   1 |\n",
       "| 76 | Laurane Pallandre           |   1 |\n",
       "| 77 | Françoise Pozet             |   1 |\n",
       "| 78 | Kenta Tsunekawa             |   1 |\n",
       "| 79 | Junki Yamasaki              |   1 |\n",
       "| 80 | Boris Julg                  |   1 |\n",
       "| 81 | Erin Quinlan                |   1 |\n",
       "| 82 | Marila Gennaro              |   1 |\n",
       "| 83 | Rachel Atchley-Challenner   |   1 |\n",
       "| 84 | Urania Argueta              |   1 |\n",
       "| 85 | Sylvia I Davila Nieves      |   1 |\n",
       "| 86 | Vivian Gainer               |   1 |\n",
       "| 87 | Minjoung Go                 |   1 |\n",
       "| 88 | Janko Z Nikolich            |   1 |\n",
       "| 89 | Elizabeth Ojemakinde        |   1 |\n",
       "| 90 | Russel R Bakken             |   1 |\n",
       "| 91 | Virendra Kumar Baranwal     |   1 |\n",
       "| 92 | Kar Mun Chooi               |   1 |\n",
       "| 93 | JoëlleGoüy de Bellocq       |   1 |\n",
       "| 94 | Ines Günther                |   1 |\n",
       "| 95 | Yusuke Hasegawa             |   1 |\n",
       "| 96 | Venkidusamy Kavi Sidharthan |   1 |\n",
       "| 97 | Akio Tatara                 |   1 |\n",
       "| 98 | Kazutaka Yano               |   1 |"
      ],
      "text/plain": [
       "<IPython.core.display.Markdown object>"
      ]
     },
     "execution_count": 31,
     "metadata": {},
     "output_type": "execute_result"
    }
   ],
   "source": [
    "from IPython.display import Markdown\n",
    "Markdown(pd.DataFrame(bradfute_misses.most_common()).to_markdown())"
   ]
  },
  {
   "cell_type": "code",
   "execution_count": 32,
   "id": "fc59ba9b-ce95-4639-8819-86977313b0fc",
   "metadata": {},
   "outputs": [
    {
     "data": {
      "text/markdown": [
       "|     | 0                      |   1 |\n",
       "|----:|:-----------------------|----:|\n",
       "|   0 | Chunyan Ye             |  16 |\n",
       "|   1 | Elizabeth C Clarke     |   8 |\n",
       "|   2 | Kartik Chandran        |   7 |\n",
       "|   3 | John M Dye             |   5 |\n",
       "|   4 | Scott M Anthony        |   5 |\n",
       "|   5 | Douglas J Perkins      |   4 |\n",
       "|   6 | Gustavo Palacios       |   4 |\n",
       "|   7 | Natarajan Ayithan      |   3 |\n",
       "|   8 | Martin Beer            |   3 |\n",
       "|   9 | Éric Bergeron          |   3 |\n",
       "|  10 | Inmaculada Casas       |   3 |\n",
       "|  11 | Ralf Dürrwald          |   3 |\n",
       "|  12 | Andrew J Easton        |   3 |\n",
       "|  13 | María Laura García     |   3 |\n",
       "|  14 | Anthony Griffiths      |   3 |\n",
       "|  15 | Stephan Günther        |   3 |\n",
       "|  16 | John Hammond           |   3 |\n",
       "|  17 | Holly R Hughes         |   3 |\n",
       "|  18 | Amy J Lambert          |   3 |\n",
       "|  19 | Jiànróng Lǐ            |   3 |\n",
       "|  20 | Sergio H Marshall      |   3 |\n",
       "|  21 | John W McCauley        |   3 |\n",
       "|  22 | José A Navarro         |   3 |\n",
       "|  23 | Anna Papa              |   3 |\n",
       "|  24 | Daniel R Pérez         |   3 |\n",
       "|  25 | Florian Pfaff          |   3 |\n",
       "|  26 | Martin Schwemmle       |   3 |\n",
       "|  27 | Jin-Won Song           |   3 |\n",
       "|  28 | Nikos Vasilakis        |   3 |\n",
       "|  29 | Peter J Walker         |   3 |\n",
       "|  30 | Yong-Zhen Zhang        |   3 |\n",
       "|  31 | Yan Guo                |   3 |\n",
       "|  32 | Daniel K Reed          |   2 |\n",
       "|  33 | Arthur O Anderson      |   2 |\n",
       "|  34 | Krishna Kota           |   2 |\n",
       "|  35 | Michael A Mandell      |   2 |\n",
       "|  36 | Santosh Chauhan        |   2 |\n",
       "|  37 | Russell R Bakken       |   2 |\n",
       "|  38 | Eduardo Anaya          |   2 |\n",
       "|  39 | Ravi Durvasula         |   2 |\n",
       "|  40 | Zachary R Stromberg    |   2 |\n",
       "|  41 | Qiuying Cheng          |   2 |\n",
       "|  42 | Gregory J Mertz        |   2 |\n",
       "|  43 | Suresh Kumar           |   2 |\n",
       "|  44 | Ivan V Kuzmin          |   2 |\n",
       "|  45 | Beatriz Navarro        |   2 |\n",
       "|  46 | Maria S Salvato        |   2 |\n",
       "|  47 | John V Williams        |   2 |\n",
       "|  48 | F Murilo Zerbini       |   2 |\n",
       "|  49 | Joseph A Cook          |   2 |\n",
       "|  50 | Michelle Harkins       |   2 |\n",
       "|  51 | Andrew M Skidmore      |   2 |\n",
       "|  52 | Markus Keller          |   2 |\n",
       "|  53 | Felix A Rey            |   2 |\n",
       "|  54 | Andrew S Herbert       |   2 |\n",
       "|  55 | J Felix Drexler        |   2 |\n",
       "|  56 | Guozhong Feng          |   2 |\n",
       "|  57 | Seiji Hongō            |   2 |\n",
       "|  58 | Kenji Kubota           |   2 |\n",
       "|  59 | Jun-Min Li             |   2 |\n",
       "|  60 | Yutaro Neriya          |   2 |\n",
       "|  61 | Sofia Paraskevopoulou  |   2 |\n",
       "|  62 | Benjamin Chen          |   2 |\n",
       "|  63 | Teruya Nakamura        |   1 |\n",
       "|  64 | Robert J Schwartz      |   1 |\n",
       "|  65 | Carlos A Ramos         |   1 |\n",
       "|  66 | Patricia Fonseca       |   1 |\n",
       "|  67 | Daniela M Oliveira     |   1 |\n",
       "|  68 | Yayun Zheng            |   1 |\n",
       "|  69 | David Steffen          |   1 |\n",
       "|  70 | Kuan-Yin K Lin         |   1 |\n",
       "|  71 | Alice J Chen           |   1 |\n",
       "|  72 | C Joseph Fisk          |   1 |\n",
       "|  73 | D Anthony Alves        |   1 |\n",
       "|  74 | Tsung-Hsien Chang      |   1 |\n",
       "|  75 | Steven Jones           |   1 |\n",
       "|  76 | Mark A Smith           |   1 |\n",
       "|  77 | Richard S Hotchkiss    |   1 |\n",
       "|  78 | Steven C Wood          |   1 |\n",
       "|  79 | Xiaoli Chi             |   1 |\n",
       "|  80 | John N Misasi          |   1 |\n",
       "|  81 | James M Cunningham     |   1 |\n",
       "|  82 | M Javad Aman           |   1 |\n",
       "|  83 | Nicolas Dupont         |   1 |\n",
       "|  84 | Tom Egil Hansen        |   1 |\n",
       "|  85 | Michael Mandell        |   1 |\n",
       "|  86 | Diana Fisher           |   1 |\n",
       "|  87 | Jeffrey W Cohen        |   1 |\n",
       "|  88 | Zahra Ahmed            |   1 |\n",
       "|  89 | Tomonori Kimura        |   1 |\n",
       "|  90 | Anna Waller            |   1 |\n",
       "|  91 | Kiran Bhaskar          |   1 |\n",
       "|  92 | Britney Martinez       |   1 |\n",
       "|  93 | Christopher L Cooper   |   1 |\n",
       "|  94 | Guangshun Wang         |   1 |\n",
       "|  95 | Yan Liu                |   1 |\n",
       "|  96 | Amanda K Zhang         |   1 |\n",
       "|  97 | St Patrick Reid        |   1 |\n",
       "|  98 | Jay S Raval            |   1 |\n",
       "|  99 | Michelle S Harkins     |   1 |\n",
       "| 100 | Simon J Anthony        |   1 |\n",
       "| 101 | Tomáš Bartonička       |   1 |\n",
       "| 102 | Brian H Bird           |   1 |\n",
       "| 103 | Carol Blair            |   1 |\n",
       "| 104 | John Chamberlain       |   1 |\n",
       "| 105 | Biao Chen              |   1 |\n",
       "| 106 | J Christopher S Clegg  |   1 |\n",
       "| 107 | Ian Crozier            |   1 |\n",
       "| 108 | Alberto M R Dávila     |   1 |\n",
       "| 109 | Mohamed Hassan         |   1 |\n",
       "| 110 | Bernd Hoffmann         |   1 |\n",
       "| 111 | Seiji Hongo            |   1 |\n",
       "| 112 | Rodrigo Jardim         |   1 |\n",
       "| 113 | Qi Jin                 |   1 |\n",
       "| 114 | Karen E Keller         |   1 |\n",
       "| 115 | Robert A Lamb          |   1 |\n",
       "| 116 | Eric M Leroy           |   1 |\n",
       "| 117 | Dexin Li               |   1 |\n",
       "| 118 | Mifang Liang           |   1 |\n",
       "| 119 | Wénwén Liú             |   1 |\n",
       "| 120 | Yàn Liú                |   1 |\n",
       "| 121 | Robert R Martin        |   1 |\n",
       "| 122 | Sébastien Massart      |   1 |\n",
       "| 123 | Renata C Oliveira      |   1 |\n",
       "| 124 | Susan Payne            |   1 |\n",
       "| 125 | Amadou Alpha Sall      |   1 |\n",
       "| 126 | Muhammad Z Shabbir     |   1 |\n",
       "| 127 | Xiǎohóng Shí           |   1 |\n",
       "| 128 | Zhènglì Shí            |   1 |\n",
       "| 129 | Peter Simmonds         |   1 |\n",
       "| 130 | David M Stone          |   1 |\n",
       "| 131 | Petra Straková         |   1 |\n",
       "| 132 | Hui Wang               |   1 |\n",
       "| 133 | Jianwei Wang           |   1 |\n",
       "| 134 | Xifeng Wang            |   1 |\n",
       "| 135 | Lin-Fa Wang            |   1 |\n",
       "| 136 | Tàiyún Wèi             |   1 |\n",
       "| 137 | Heather Wells          |   1 |\n",
       "| 138 | Zhìqiáng Wú            |   1 |\n",
       "| 139 | Xin Yang               |   1 |\n",
       "| 140 | Xuejie Yu              |   1 |\n",
       "| 141 | Tong Zhang             |   1 |\n",
       "| 142 | Guohui Zhou            |   1 |\n",
       "| 143 | Xueping Zhou           |   1 |\n",
       "| 144 | Matthew J Garcia       |   1 |\n",
       "| 145 | Shruti Bansal          |   1 |\n",
       "| 146 | Matthew N Rush         |   1 |\n",
       "| 147 | Jennifer S Martinez    |   1 |\n",
       "| 148 | Maria Eugenia Dieterle |   1 |\n",
       "| 149 | Ruheena Javed          |   1 |\n",
       "| 150 | Ashish Jain            |   1 |\n",
       "| 151 | Karthikeyan Tangavelou |   1 |\n",
       "| 152 | Jing Li                |   1 |\n",
       "| 153 | Shuguang Leng          |   1 |\n",
       "| 154 | Jeremy Edwards         |   1 |\n",
       "| 155 | Gregory Mertz          |   1 |\n",
       "| 156 | Mark Unruh             |   1 |\n",
       "| 157 | J Pedro Teixeira       |   1 |\n",
       "| 158 | Rémy Bruggmann         |   1 |\n",
       "| 159 | Mark Crane             |   1 |\n",
       "| 160 | Dongsheng Luo          |   1 |\n",
       "| 161 | Peter G Mohr           |   1 |\n",
       "| 162 | Richard N Morrison     |   1 |\n",
       "| 163 | Stephen R Welch        |   1 |\n",
       "| 164 | Jana M Ritter          |   1 |\n",
       "| 165 | Katherine A Davies     |   1 |\n",
       "| 166 | Alexandra Fowler       |   1 |\n",
       "| 167 | Christian R Gomez      |   1 |\n",
       "| 168 | Thomas J Connors       |   1 |\n",
       "| 169 | William Brian Reeves   |   1 |\n",
       "| 170 | Michael A Portman      |   1 |\n",
       "| 171 | Sarah E Jolley         |   1 |\n",
       "| 172 | Bruce Levy             |   1 |\n",
       "| 173 | Upinder Singh          |   1 |\n",
       "| 174 | Carolin C M Schulte    |   1 |\n",
       "| 175 | George A Alba          |   1 |\n",
       "| 176 | Shamik Bhattacharyya   |   1 |\n",
       "| 177 | Hector Bonilla         |   1 |\n",
       "| 178 | Mario Castro           |   1 |\n",
       "| 179 | James Chan             |   1 |\n",
       "| 180 | Peter Chen             |   1 |\n",
       "| 181 | Helen Y Chu            |   1 |\n",
       "| 182 | Rebecca G Clifton      |   1 |\n",
       "| 183 | Vivian Fonseca         |   1 |\n",
       "| 184 | Kelly S Gibson         |   1 |\n",
       "| 185 | Jenny E Han            |   1 |\n",
       "| 186 | James Heath            |   1 |\n",
       "| 187 | Carla Hernandez        |   1 |\n",
       "| 188 | Rachel Hess            |   1 |\n",
       "| 189 | Susan E Hoover         |   1 |\n",
       "| 190 | Beatrice Huang         |   1 |\n",
       "| 191 | Brenna L Hughes        |   1 |\n",
       "| 192 | Janice John            |   1 |\n",
       "| 193 | Michael R Jordan       |   1 |\n",
       "| 194 | John D Kelly           |   1 |\n",
       "| 195 | Jonathan D Klein       |   1 |\n",
       "| 196 | Allison A Lambert      |   1 |\n",
       "| 197 | Michele T Longo        |   1 |\n",
       "| 198 | Carlos A Luciano       |   1 |\n",
       "| 199 | Jason H Maley          |   1 |\n",
       "| 200 | Hector Mendez-Figueroa |   1 |\n",
       "| 201 | Shawn N Murphy         |   1 |\n",
       "| 202 | Robert B Neuman        |   1 |\n",
       "| 203 | Anna Palatnik          |   1 |\n",
       "| 204 | Samuel Parry           |   1 |\n",
       "| 205 | Thomas F Patterson     |   1 |\n",
       "| 206 | John G Quigley         |   1 |\n",
       "| 207 | Uma Reddy              |   1 |\n",
       "| 208 | Rebecca Reece          |   1 |\n",
       "| 209 | W B Reeves             |   1 |\n",
       "| 210 | Dwight J Rouse         |   1 |\n",
       "| 211 | Jeffrey A Sparks       |   1 |\n",
       "| 212 | Barbara S Taylor       |   1 |\n",
       "| 213 | John M Thorp           |   1 |\n",
       "| 214 | Katherine R Tuttle     |   1 |\n",
       "| 215 | Zachary S Wallace      |   1 |\n",
       "| 216 | Steven J Weiner        |   1 |\n",
       "| 217 | Lynn M Yee             |   1 |\n",
       "| 218 | Yan Sun                |   1 |\n",
       "| 219 | Junya Abe              |   1 |\n",
       "| 220 | Wenjie Gong            |   1 |\n",
       "| 221 | Colleen M Higgins      |   1 |\n",
       "| 222 | Kenichi Ikeda          |   1 |\n",
       "| 223 | Ran Liu                |   1 |\n",
       "| 224 | Tomoyuki Okada         |   1 |\n",
       "| 225 | Xin Tian               |   1 |\n",
       "| 226 | Han Xia                |   1 |\n",
       "| 227 | Zhiming Yuan           |   1 |\n",
       "| 228 | Guilin Zhang           |   1 |\n",
       "| 229 | Song Zhang             |   1 |\n",
       "| 230 | Lu Zhao                |   1 |\n",
       "| 231 | C Kim                  |   1 |\n",
       "| 232 | K Coombs               |   1 |"
      ],
      "text/plain": [
       "<IPython.core.display.Markdown object>"
      ]
     },
     "execution_count": 32,
     "metadata": {},
     "output_type": "execute_result"
    }
   ],
   "source": [
    "from IPython.display import Markdown\n",
    "Markdown(pd.DataFrame(bradfute_ambiguous.most_common()).to_markdown())"
   ]
  },
  {
   "cell_type": "code",
   "execution_count": 50,
   "id": "86cb13fe-c978-476f-94ba-67ab8b49ea39",
   "metadata": {},
   "outputs": [
    {
     "data": {
      "application/vnd.jupyter.widget-view+json": {
       "model_id": "f608775564344c94abf6e5697360b70c",
       "version_major": 2,
       "version_minor": 0
      },
      "text/plain": [
       "  0%|          | 0.00/108M [00:00<?, ?it/s]"
      ]
     },
     "metadata": {},
     "output_type": "display_data"
    }
   ],
   "source": [
    "lookup_counter = Counter(\n",
    "    len(x)\n",
    "    for x in tqdm(grounder.entries.values(), unit_scale=True)\n",
    ")"
   ]
  },
  {
   "cell_type": "code",
   "execution_count": 8,
   "id": "34eb8b79-b8d9-49d5-a768-fe747d8e7485",
   "metadata": {},
   "outputs": [
    {
     "data": {
      "text/plain": [
       "7824"
      ]
     },
     "execution_count": 8,
     "metadata": {},
     "output_type": "execute_result"
    }
   ],
   "source": [
    "pmids = set(\n",
    "    pd.read_csv(\n",
    "        \"/Users/cthoyt/dev/kestrel/src/kestrel/ner/pubmed/pathogen_platform_pubmed.tsv\", \n",
    "        sep='\\t', usecols=[3]\n",
    "    )['pubmed']\n",
    ")\n",
    "len(pmids)"
   ]
  }
 ],
 "metadata": {
  "kernelspec": {
   "display_name": "Python 3 (ipykernel)",
   "language": "python",
   "name": "python3"
  },
  "language_info": {
   "codemirror_mode": {
    "name": "ipython",
    "version": 3
   },
   "file_extension": ".py",
   "mimetype": "text/x-python",
   "name": "python",
   "nbconvert_exporter": "python",
   "pygments_lexer": "ipython3",
   "version": "3.11.6"
  }
 },
 "nbformat": 4,
 "nbformat_minor": 5
}
