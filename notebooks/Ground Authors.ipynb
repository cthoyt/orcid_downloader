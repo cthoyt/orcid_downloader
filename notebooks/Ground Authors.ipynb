{
 "cells": [
  {
   "cell_type": "code",
   "execution_count": 39,
   "id": "d40459f8-156b-44a6-9822-91b65fae416c",
   "metadata": {},
   "source": [
    "import sys\n",
    "from collections import Counter, defaultdict\n",
    "\n",
    "import humanize\n",
    "import networkx as nx\n",
    "import pandas as pd\n",
    "from gilda.resources import sqlite_adapter\n",
    "from indra.literature import pubmed_client\n",
    "from more_itertools import batched\n",
    "from tqdm.auto import tqdm\n",
    "\n",
    "from orcid_downloader import get_gilda_grounder, ground_researcher"
   ],
   "outputs": []
  },
  {
   "cell_type": "code",
   "execution_count": 38,
   "id": "35acc98b-582a-45fc-846d-0d7a17470857",
   "metadata": {},
   "source": [
    "%%time\n",
    "grounder = get_gilda_grounder()\n",
    "print(humanize.naturalsize(sys.getsizeof(grounder.entries), binary=True))"
   ],
   "outputs": []
  },
  {
   "cell_type": "code",
   "execution_count": 44,
   "id": "a782f5c6-31c8-4241-a6d3-a3f746c7ad99",
   "metadata": {},
   "source": [
    "import json\n",
    "import sqlite3\n",
    "\n",
    "\n",
    "def build(grounding_entries, path=None):\n",
    "    print(f\"Starting SQLite database at {path}\")\n",
    "    conn = sqlite3.connect(path)\n",
    "    cur = conn.cursor()\n",
    "\n",
    "    # Create the table\n",
    "    print(\"Creating the table\")\n",
    "    q = \"CREATE TABLE terms (norm_text text not null primary key, terms text)\"\n",
    "    cur.execute(q)\n",
    "\n",
    "    # Insert terms\n",
    "    print(\"Inserting terms\")\n",
    "    q = \"INSERT INTO terms (norm_text, terms) VALUES (?, ?)\"\n",
    "    for norm_text, terms in tqdm(grounding_entries.items(), unit_scale=True):\n",
    "        cur.execute(q, (norm_text, json.dumps([t.to_json() for t in terms])))\n",
    "\n",
    "    # Build index\n",
    "    print(\"Making index\")\n",
    "    q = \"CREATE INDEX norm_index ON terms (norm_text);\"\n",
    "    cur.execute(q)\n",
    "    print(\"committing\")\n",
    "    conn.commit()\n",
    "    print(\"closing\")\n",
    "    conn.close()\n",
    "    print(\"done\")"
   ],
   "outputs": []
  },
  {
   "cell_type": "code",
   "execution_count": 48,
   "id": "be7f3cb0-c7ac-4a55-917b-c8f094eedfb2",
   "metadata": {},
   "source": [
    "import pickle\n",
    "\n",
    "db_rows = [\n",
    "    (norm_text, pickle.dumps(terms))\n",
    "    for norm_text, terms in tqdm(grounder.entries.items(), unit_scale=True)\n",
    "]"
   ],
   "outputs": []
  },
  {
   "cell_type": "code",
   "execution_count": 46,
   "id": "83d5eb02-e138-4494-8122-9e90b03a6f9b",
   "metadata": {},
   "source": [
    "%%time\n",
    "build(grounder.entries, path=\"/Users/cthoyt/.data/orcid/2023/gilda.db\")"
   ],
   "outputs": []
  },
  {
   "cell_type": "code",
   "execution_count": 2,
   "id": "ac72cac4-a033-4166-8b4f-16874be94628",
   "metadata": {},
   "source": [
    "%%time\n",
    "ground_researcher(\"charlie hoyt\")"
   ],
   "outputs": []
  },
  {
   "cell_type": "code",
   "execution_count": 29,
   "id": "e3455892-faad-4d0d-ab0a-59e559c64b99",
   "metadata": {},
   "source": [
    "def get_metadata_batched(pmids):\n",
    "    results = {}\n",
    "    for batch in tqdm(\n",
    "        batched(sorted(pmids), 200),\n",
    "        total=1 + len(pmids) // 200,\n",
    "        unit=\"batch of 200\",\n",
    "        desc=\"Looking up\",\n",
    "    ):\n",
    "        results.update(pubmed_client.get_metadata_for_ids(batch, detailed_authors=True))\n",
    "    return results\n",
    "\n",
    "\n",
    "def ground_extended(first_name, last_name):\n",
    "    first_name = first_name.strip()\n",
    "    last_name = last_name.strip()\n",
    "    names = [f\"{first_name} {last_name}\"]\n",
    "    if \" \" in first_name:\n",
    "        names.append(first_name.split()[0] + \" \" + last_name)\n",
    "    for name in names:\n",
    "        matches = ground_researcher(name)\n",
    "        if matches:\n",
    "            return matches\n",
    "    return []\n",
    "\n",
    "\n",
    "def process_pmid_results(rr):\n",
    "    annotations = []\n",
    "    ambiguous = Counter()\n",
    "    misses = Counter()\n",
    "    for pubmed, data in tqdm(rr.items(), unit_scale=True, desc=\"Grounding\"):\n",
    "        # print()\n",
    "        # print(f\"PubMed:{pubmed}\")\n",
    "        authors = data[\"authors\"]\n",
    "        for author in authors:\n",
    "            first_name = author[\"first_name\"]\n",
    "            if not first_name:\n",
    "                continue\n",
    "            last_name = author[\"last_name\"]\n",
    "            matches = ground_extended(first_name, last_name)\n",
    "            if len(matches) == 1:\n",
    "                annotations.append((pubmed, matches[0].term.id))\n",
    "            elif matches:\n",
    "                ambiguous[first_name + \" \" + last_name] += 1\n",
    "                # print(pubmed, name, len(matches), author['affiliations'])\n",
    "                # 2. if there are multiple, see if we can match any affiliations\n",
    "                pass\n",
    "            else:\n",
    "                if \"Steven\" in first_name:\n",
    "                    print(first_name)\n",
    "                    print(last_name)\n",
    "                misses[first_name + \" \" + last_name] += 1\n",
    "\n",
    "    orcid_to_papers = defaultdict(set)\n",
    "    for pubmed, orcid in annotations:\n",
    "        orcid_to_papers[orcid].add(pubmed)\n",
    "    orcid_to_papers = {k: sorted(v) for k, v in orcid_to_papers.items()}\n",
    "\n",
    "    return annotations, orcid_to_papers, ambiguous, misses"
   ],
   "outputs": []
  },
  {
   "cell_type": "code",
   "execution_count": 30,
   "id": "e3b8faed-e92d-4587-9bf1-aced9b512892",
   "metadata": {},
   "source": [
    "BRADFUTE_ORCID = \"0000-0002-1985-751X\"\n",
    "bradfute_pmids = pubmed_client.get_ids('\"Steven B Bradfute\"', use_text_word=False)\n",
    "bradfute_records = get_metadata_batched(bradfute_pmids)\n",
    "\n",
    "(\n",
    "    bradfute_annotations,\n",
    "    bradfute_orcid_to_paper,\n",
    "    bradfute_ambiguous,\n",
    "    bradfute_misses,\n",
    ") = process_pmid_results(bradfute_records)\n",
    "\n",
    "print(\n",
    "    f\"There are {len(bradfute_annotations):,} paper-author annotations \"\n",
    "    f\"with {len(bradfute_orcid_to_paper)} unique authors and {len(bradfute_pmids):,} \"\n",
    "    f\"papers.\"\n",
    ")\n",
    "\n",
    "n_bradfute_annotated = len(bradfute_orcid_to_paper[BRADFUTE_ORCID])\n",
    "print(\n",
    "    f\"There are {n_bradfute_annotated:,} ({n_bradfute_annotated/len(bradfute_pmids):.1%}) \"\n",
    "    f\"papers annotated with Bradfute.\"\n",
    ")"
   ],
   "outputs": []
  },
  {
   "cell_type": "code",
   "execution_count": 31,
   "id": "0ec8e840-334c-486b-914f-0ef9c7cef3ec",
   "metadata": {},
   "source": [
    "from IPython.display import Markdown\n",
    "\n",
    "Markdown(pd.DataFrame(bradfute_misses.most_common()).to_markdown())"
   ],
   "outputs": []
  },
  {
   "cell_type": "code",
   "execution_count": 32,
   "id": "fc59ba9b-ce95-4639-8819-86977313b0fc",
   "metadata": {},
   "source": [
    "from IPython.display import Markdown\n",
    "\n",
    "Markdown(pd.DataFrame(bradfute_ambiguous.most_common()).to_markdown())"
   ],
   "outputs": []
  },
  {
   "cell_type": "code",
   "execution_count": 50,
   "id": "86cb13fe-c978-476f-94ba-67ab8b49ea39",
   "metadata": {},
   "source": [
    "lookup_counter = Counter(len(x) for x in tqdm(grounder.entries.values(), unit_scale=True))"
   ],
   "outputs": []
  },
  {
   "cell_type": "code",
   "execution_count": 8,
   "id": "34eb8b79-b8d9-49d5-a768-fe747d8e7485",
   "metadata": {},
   "source": [
    "pmids = set(\n",
    "    pd.read_csv(\n",
    "        \"/Users/cthoyt/dev/kestrel/src/kestrel/ner/pubmed/pathogen_platform_pubmed.tsv\",\n",
    "        sep=\"\\t\",\n",
    "        usecols=[3],\n",
    "    )[\"pubmed\"]\n",
    ")\n",
    "len(pmids)"
   ],
   "outputs": []
  }
 ],
 "metadata": {
  "kernelspec": {
   "display_name": "Python 3 (ipykernel)",
   "language": "python",
   "name": "python3"
  },
  "language_info": {
   "codemirror_mode": {
    "name": "ipython",
    "version": 3
   },
   "file_extension": ".py",
   "mimetype": "text/x-python",
   "name": "python",
   "nbconvert_exporter": "python",
   "pygments_lexer": "ipython3",
   "version": "3.11.6"
  }
 },
 "nbformat": 4,
 "nbformat_minor": 5
}
