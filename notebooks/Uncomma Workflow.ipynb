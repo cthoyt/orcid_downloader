{
 "cells": [
  {
   "cell_type": "code",
   "execution_count": 2,
   "id": "d52fda23-55d5-4b08-b869-91b3b0d27387",
   "metadata": {},
   "outputs": [],
   "source": [
    "import sqlite3\n",
    "\n",
    "with sqlite3.connect(\"/Users/cthoyt/.data/orcid/2023/orcid.db\") as conn:\n",
    "    res = list(conn.execute(\"SELECT orcid, name from person WHERE name LIKE '%,%'\"))\n",
    "len(res)"
   ]
  },
  {
   "cell_type": "code",
   "execution_count": 6,
   "id": "cbbd39b5-e4f5-4cd7-a1de-b690c3c9a384",
   "metadata": {},
   "outputs": [],
   "source": [
    "import pandas as pd\n",
    "\n",
    "def _uncomma(name: str) -> str:\n",
    "    if \",\" not in name:\n",
    "        return name\n",
    "    parts = [part.strip() for part in name.split()]\n",
    "    if len(parts) > 1 and parts[0].endswith(\",\"):\n",
    "        name = \" \".join(parts[1:]) + \" \" + parts[0].rstrip(\",\")\n",
    "    return name\n",
    "\n",
    "\n",
    "rows = []\n",
    "for orcid, name in res[:50]:\n",
    "    rows.append((orcid, _uncomma(name), name))\n",
    "\n",
    "pd.DataFrame(rows, columns=['orcid', 'name', 'raw'])"
   ]
  },
  {
   "cell_type": "code",
   "execution_count": null,
   "id": "e2405da8-23b3-41c7-853f-4748b4ef294d",
   "metadata": {},
   "outputs": [],
   "source": []
  }
 ],
 "metadata": {
  "kernelspec": {
   "display_name": "Python 3 (ipykernel)",
   "language": "python",
   "name": "python3"
  },
  "language_info": {
   "codemirror_mode": {
    "name": "ipython",
    "version": 3
   },
   "file_extension": ".py",
   "mimetype": "text/x-python",
   "name": "python",
   "nbconvert_exporter": "python",
   "pygments_lexer": "ipython3",
   "version": "3.12.4"
  }
 },
 "nbformat": 4,
 "nbformat_minor": 5
}
